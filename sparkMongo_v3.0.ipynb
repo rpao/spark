{
 "cells": [
  {
   "cell_type": "code",
   "execution_count": 1,
   "metadata": {},
   "outputs": [
    {
     "data": {
      "text/html": [
       "\n",
       "        <div>\n",
       "            <p><b>SparkContext</b></p>\n",
       "\n",
       "            <p><a href=\"http://192.168.15.16:4041\">Spark UI</a></p>\n",
       "\n",
       "            <dl>\n",
       "              <dt>Version</dt>\n",
       "                <dd><code>v2.4.3</code></dd>\n",
       "              <dt>Master</dt>\n",
       "                <dd><code>local[*]</code></dd>\n",
       "              <dt>AppName</dt>\n",
       "                <dd><code>PySparkShell</code></dd>\n",
       "            </dl>\n",
       "        </div>\n",
       "        "
      ],
      "text/plain": [
       "<SparkContext master=local[*] appName=PySparkShell>"
      ]
     },
     "execution_count": 1,
     "metadata": {},
     "output_type": "execute_result"
    }
   ],
   "source": [
    "## imports:\n",
    "## SparkSession:   When you start pyspark you get a SparkSession object called spark by default. \n",
    "##   In a standalone Python application, you need to create your SparkSession object explicitly.\n",
    "##   When you create a SparkSession, automaticaly creates a SparkContext\n",
    "from pyspark import SparkContext\n",
    "from pyspark.sql import SparkSession, SQLContext\n",
    "\n",
    "sc = SparkContext.getOrCreate()\n",
    "sc"
   ]
  },
  {
   "cell_type": "code",
   "execution_count": 2,
   "metadata": {},
   "outputs": [],
   "source": [
    "## definições\n",
    "MASTER='local'\n",
    "IP = '127.0.0.1'\n",
    "DATABASE = 'm3bg1'\n",
    "COLLECTIONS = ['c_address','city','customer','date','lineorder','nation','part','region','s_address','supplier']\n",
    "MONGO_FORMAT = 'com.mongodb.spark.sql.DefaultSource'\n",
    "\n",
    "DB_URL = \"mongodb://{0}/{1}.\".format(IP, DATABASE)"
   ]
  },
  {
   "cell_type": "code",
   "execution_count": 7,
   "metadata": {},
   "outputs": [],
   "source": [
    "def getCollection(collection):\n",
    "    return spark.read.format(MONGO_FORMAT).option(\"uri\",DB_URL+collection).load()"
   ]
  },
  {
   "cell_type": "code",
   "execution_count": 11,
   "metadata": {},
   "outputs": [],
   "source": [
    "def getRDD(collection):\n",
    "    print(' > get', collection,'...')\n",
    "    df =  getCollection(collection)\n",
    "    return df.rdd"
   ]
  },
  {
   "cell_type": "code",
   "execution_count": 12,
   "metadata": {},
   "outputs": [
    {
     "name": "stdout",
     "output_type": "stream",
     "text": [
      "START - LOAD COLLECTIONS FROM DATABASE AS RDD...\n",
      " > get c_address ...\n",
      " > get city ...\n",
      " > get customer ...\n",
      " > get date ...\n",
      " > get lineorder ...\n",
      " > get nation ...\n",
      " > get part ...\n",
      " > get region ...\n",
      " > get s_address ...\n",
      " > get supplier ...\n",
      "END - LOAD COLLECTIONS FROM DATABASE AS RDD...\n"
     ]
    }
   ],
   "source": [
    "##df = spark.read.format(SPARK_FORMAT).load()\n",
    "print('START - LOAD COLLECTIONS FROM DATABASE AS RDD...')\n",
    "\n",
    "## LOAD COLLECTIONS FROM DATABASE\n",
    "## OBS: MongoDB doesn't supports RDD in Python so needs to use DataFrames\n",
    "c_address = getRDD('c_address')\n",
    "city = getRDD('city')\n",
    "customer = getRDD('customer')\n",
    "date = getRDD('date')\n",
    "lineorder = getRDD('lineorder')\n",
    "nation = getRDD('nation')\n",
    "part = getRDD('part')\n",
    "region = getRDD('region')\n",
    "s_address = getRDD('s_address')\n",
    "supplier = getRDD('supplier')\n",
    "\n",
    "print('END - LOAD COLLECTIONS FROM DATABASE AS RDD...')"
   ]
  },
  {
   "cell_type": "code",
   "execution_count": 44,
   "metadata": {},
   "outputs": [],
   "source": [
    "## FILTER\n",
    "res = c_address.filter(lambda x : x['c_address_geo']['type'] == 'Point')\n",
    "\n",
    "res = c_address.filter(lambda x : x['c_address_geo']['type'] == 'Point')"
   ]
  },
  {
   "cell_type": "code",
   "execution_count": null,
   "metadata": {},
   "outputs": [],
   "source": []
  }
 ],
 "metadata": {
  "kernelspec": {
   "display_name": "Python 3",
   "language": "python",
   "name": "python3"
  },
  "language_info": {
   "codemirror_mode": {
    "name": "ipython",
    "version": 3
   },
   "file_extension": ".py",
   "mimetype": "text/x-python",
   "name": "python",
   "nbconvert_exporter": "python",
   "pygments_lexer": "ipython3",
   "version": "3.7.3"
  }
 },
 "nbformat": 4,
 "nbformat_minor": 2
}
