{
 "cells": [
  {
   "cell_type": "code",
   "execution_count": 1,
   "metadata": {},
   "outputs": [],
   "source": [
    "from pyspark import SparkContext,SparkConf\n",
    "from pyspark.sql import SQLContext"
   ]
  },
  {
   "cell_type": "code",
   "execution_count": 2,
   "metadata": {},
   "outputs": [],
   "source": [
    "def getSqlContext():\n",
    "    sc = SparkContext.getOrCreate()\n",
    "    sqlContext = SQLContext(sc)\n",
    "    return sqlContext"
   ]
  },
  {
   "cell_type": "code",
   "execution_count": 3,
   "metadata": {},
   "outputs": [],
   "source": [
    "def dataBaseConfig(db, host=\"localhost\", porta=3306, usuario=\"root\",senha=\"root\"):\n",
    "    hostname = host\n",
    "    dbname = db\n",
    "    jdbcPort = porta\n",
    "    username = usuario\n",
    "    password = senha\n",
    "    jdbc_url = \"jdbc:mysql://{0}:{1}/{2}?useTimezone=true&serverTimezone=UTC&user={3}&password={4}\".format(hostname,jdbcPort, dbname,username,password)    \n",
    "    return jdbc_url"
   ]
  },
  {
   "cell_type": "code",
   "execution_count": 4,
   "metadata": {},
   "outputs": [],
   "source": [
    "def execQuery(query, jdbc_url):\n",
    "    df = sqlContext.read.format('jdbc').options(driver = 'com.mysql.jdbc.Driver',url=jdbc_url, dbtable=query).load()\n",
    "    return df"
   ]
  },
  {
   "cell_type": "code",
   "execution_count": 5,
   "metadata": {},
   "outputs": [],
   "source": [
    "sqlContext = getSqlContext()\n",
    "jdbc_url = dataBaseConfig('sakila')"
   ]
  },
  {
   "cell_type": "code",
   "execution_count": null,
   "metadata": {},
   "outputs": [],
   "source": [
    "query = \"(select * from actor order by first_name) t1_alias\"\n",
    "df1 = execQuery(query, jdbc_url)"
   ]
  },
  {
   "cell_type": "code",
   "execution_count": 59,
   "metadata": {},
   "outputs": [
    {
     "name": "stdout",
     "output_type": "stream",
     "text": [
      "+--------+----------+-----------+-------------------+\n",
      "|actor_id|first_name|  last_name|        last_update|\n",
      "+--------+----------+-----------+-------------------+\n",
      "|      71|      ADAM|      GRANT|2006-02-15 01:34:33|\n",
      "|     132|      ADAM|     HOPPER|2006-02-15 01:34:33|\n",
      "|     165|        AL|    GARLAND|2006-02-15 01:34:33|\n",
      "|     173|      ALAN|   DREYFUSS|2006-02-15 01:34:33|\n",
      "|     125|    ALBERT|      NOLTE|2006-02-15 01:34:33|\n",
      "|     146|    ALBERT|  JOHANSSON|2006-02-15 01:34:33|\n",
      "|      29|      ALEC|      WAYNE|2006-02-15 01:34:33|\n",
      "|      65|    ANGELA|     HUDSON|2006-02-15 01:34:33|\n",
      "|     144|    ANGELA|WITHERSPOON|2006-02-15 01:34:33|\n",
      "|      76|  ANGELINA|    ASTAIRE|2006-02-15 01:34:33|\n",
      "|      49|      ANNE|     CRONYN|2006-02-15 01:34:33|\n",
      "|      34|    AUDREY|    OLIVIER|2006-02-15 01:34:33|\n",
      "|     190|    AUDREY|     BAILEY|2006-02-15 01:34:33|\n",
      "|     196|      BELA|     WALKEN|2006-02-15 01:34:33|\n",
      "|      83|       BEN|     WILLIS|2006-02-15 01:34:33|\n",
      "|     152|       BEN|     HARRIS|2006-02-15 01:34:33|\n",
      "|       6|     BETTE|  NICHOLSON|2006-02-15 01:34:33|\n",
      "|      19|       BOB|    FAWCETT|2006-02-15 01:34:33|\n",
      "|      36|      BURT|    DUKAKIS|2006-02-15 01:34:33|\n",
      "|      75|      BURT|      POSEY|2006-02-15 01:34:33|\n",
      "+--------+----------+-----------+-------------------+\n",
      "only showing top 20 rows\n",
      "\n"
     ]
    }
   ],
   "source": [
    "#df1 = sqlContext.read.format('jdbc').options(driver = 'com.mysql.jdbc.Driver',url=jdbc_url, dbtable=query ).load()\n",
    "df1.show()"
   ]
  },
  {
   "cell_type": "code",
   "execution_count": null,
   "metadata": {},
   "outputs": [],
   "source": []
  }
 ],
 "metadata": {
  "kernelspec": {
   "display_name": "Python 3",
   "language": "python",
   "name": "python3"
  },
  "language_info": {
   "codemirror_mode": {
    "name": "ipython",
    "version": 3
   },
   "file_extension": ".py",
   "mimetype": "text/x-python",
   "name": "python",
   "nbconvert_exporter": "python",
   "pygments_lexer": "ipython3",
   "version": "3.7.1"
  }
 },
 "nbformat": 4,
 "nbformat_minor": 2
}
