{
 "cells": [
  {
   "cell_type": "code",
   "execution_count": 1,
   "metadata": {},
   "outputs": [],
   "source": [
    "import sys\n",
    "from pyspark.sql import SparkSession"
   ]
  },
  {
   "cell_type": "code",
   "execution_count": 8,
   "metadata": {},
   "outputs": [],
   "source": [
    "my_spark = SparkSession.builder\\\n",
    "    .appName(\"myApp\")\\\n",
    "    .config(\"spark.mongodb.output.uri\", \"mongodb://127.0.0.1/m3bg1.city\")\\\n",
    "    .config(\"spark.mongodb.input.uri\", \"mongodb://127.0.0.1/m3bg1.city\")\\\n",
    "    .getOrCreate()"
   ]
  },
  {
   "cell_type": "code",
   "execution_count": 9,
   "metadata": {},
   "outputs": [],
   "source": [
    "### To create a DataFrame, first create a SparkSession object, then use the object’s createDataFrame()\n",
    "### function. In the following example, createDataFrame() takes a list of tuples containing names and \n",
    "### ages, and a list of column names:\n",
    "#\n",
    "#people = my_spark.createDataFrame([(\"Bilbo Baggins\",  50),(\"Gandalf\", 1000), (\"Thorin\", 195), \n",
    "#                                (\"Balin\", 178), (\"Kili\", 77),(\"Dwalin\", 169), (\"Oin\", 167), \n",
    "#                                (\"Gloin\", 158), (\"Fili\", 82), (\"Bombur\", None)], [\"name\", \"age\"])\n",
    "#\n",
    "### WRITE\n",
    "#\n",
    "### Write the people DataFrame to the MongoDB database and collection specified in the \n",
    "### spark.mongodb.output.uri option by using the write method:\n",
    "#\n",
    "#people.write.format(\"com.mongodb.spark.sql.DefaultSource\").mode(\"append\").save()\n",
    "#\n",
    "### The above operation writes to the MongoDB database and collection specified in the \n",
    "### spark.mongodb.output.uri option when you connect to the pyspark shell.\n",
    "#\n",
    "### To read the contents of the DataFrame, use the show() method.\n",
    "#people.show()\n",
    "#\n",
    "### The printSchema() method prints out the DataFrame’s schema:\n",
    "#people.printSchema()\n",
    "#\n",
    "### If you need to write to a different MongoDB collection, use the .option() method with .write()\n",
    "#people.write.format(\"com.mongodb.spark.sql.DefaultSource\").mode(\"append\").option(\"database\",\n",
    "#\"people\").option(\"collection\", \"contacts\").save()\n",
    "#\n",
    "#people.show()"
   ]
  },
  {
   "cell_type": "code",
   "execution_count": 10,
   "metadata": {},
   "outputs": [],
   "source": [
    "## READ\n",
    "\n",
    "## Assign the collection to a DataFrame with spark.read() from within the pyspark shell.\n",
    "df = spark.read.format(\"com.mongodb.spark.sql.DefaultSource\").load()\n",
    "\n",
    "## If you need to read from a different MongoDB collection, use the .option method when reading data \n",
    "## into a DataFrame.\n",
    "\n",
    "## To read from a collection called contacts in a database called people, specify people.contacts in\n",
    "## the input URI option.\n",
    "#df = spark.read.format(\"com.mongodb.spark.sql.DefaultSource\").option(\"uri\",\"mongodb://127.0.0.1/people.contacts\").load()"
   ]
  },
  {
   "cell_type": "code",
   "execution_count": 11,
   "metadata": {},
   "outputs": [
    {
     "name": "stdout",
     "output_type": "stream",
     "text": [
      "root\n",
      " |-- _id: struct (nullable = true)\n",
      " |    |-- oid: string (nullable = true)\n",
      " |-- city_geo: struct (nullable = true)\n",
      " |    |-- type: string (nullable = true)\n",
      " |    |-- coordinates: array (nullable = true)\n",
      " |    |    |-- element: array (containsNull = true)\n",
      " |    |    |    |-- element: array (containsNull = true)\n",
      " |    |    |    |    |-- element: array (containsNull = true)\n",
      " |    |    |    |    |    |-- element: double (containsNull = true)\n",
      " |-- city_pk: long (nullable = true)\n",
      "\n"
     ]
    }
   ],
   "source": [
    "#Spark samples the records to infer the schema of the collection.\n",
    "df.printSchema()"
   ]
  },
  {
   "cell_type": "code",
   "execution_count": null,
   "metadata": {},
   "outputs": [],
   "source": []
  }
 ],
 "metadata": {
  "kernelspec": {
   "display_name": "Python 3",
   "language": "python",
   "name": "python3"
  },
  "language_info": {
   "codemirror_mode": {
    "name": "ipython",
    "version": 3
   },
   "file_extension": ".py",
   "mimetype": "text/x-python",
   "name": "python",
   "nbconvert_exporter": "python",
   "pygments_lexer": "ipython3",
   "version": "3.7.1"
  }
 },
 "nbformat": 4,
 "nbformat_minor": 2
}
