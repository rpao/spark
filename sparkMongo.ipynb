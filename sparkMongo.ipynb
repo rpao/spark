{
 "cells": [
  {
   "cell_type": "code",
   "execution_count": 1,
   "metadata": {},
   "outputs": [],
   "source": [
    "import sys\n",
    "from pyspark.sql import SparkSession"
   ]
  },
  {
   "cell_type": "code",
   "execution_count": 2,
   "metadata": {},
   "outputs": [],
   "source": [
    "def getCollection(collection, database=\"m3bg1\", ip=\"127.0.0.1\"):\n",
    "    url = \"mongodb://{0}/{1}.{2}\".format(ip,database,collection)\n",
    "    readCollection = spark.read.format(\"com.mongodb.spark.sql.DefaultSource\").option(\"uri\",url).load()\n",
    "    return readCollection"
   ]
  },
  {
   "cell_type": "code",
   "execution_count": 3,
   "metadata": {},
   "outputs": [],
   "source": [
    "def execSQL(sql):\n",
    "    result = spark.sql(sql)\n",
    "    return result"
   ]
  },
  {
   "cell_type": "code",
   "execution_count": 4,
   "metadata": {},
   "outputs": [
    {
     "name": "stdout",
     "output_type": "stream",
     "text": [
      "root\n",
      " |-- _id: struct (nullable = true)\n",
      " |    |-- oid: string (nullable = true)\n",
      " |-- city_geo: struct (nullable = true)\n",
      " |    |-- type: string (nullable = true)\n",
      " |    |-- coordinates: array (nullable = true)\n",
      " |    |    |-- element: array (containsNull = true)\n",
      " |    |    |    |-- element: array (containsNull = true)\n",
      " |    |    |    |    |-- element: array (containsNull = true)\n",
      " |    |    |    |    |    |-- element: double (containsNull = true)\n",
      " |-- city_pk: long (nullable = true)\n",
      "\n"
     ]
    }
   ],
   "source": [
    "city = getCollection(\"city\")\n",
    "city.printSchema()\n",
    "#city = spark.read.format(\"com.mongodb.spark.sql.DefaultSource\").\n",
    "#       option(\"uri\",\"mongodb://127.0.0.1/m3bg1.city\").load()"
   ]
  },
  {
   "cell_type": "code",
   "execution_count": 5,
   "metadata": {},
   "outputs": [
    {
     "name": "stdout",
     "output_type": "stream",
     "text": [
      "root\n",
      " |-- _id: struct (nullable = true)\n",
      " |    |-- oid: string (nullable = true)\n",
      " |-- c_address: string (nullable = true)\n",
      " |-- c_address_fk: long (nullable = true)\n",
      " |-- c_city: string (nullable = true)\n",
      " |-- c_city_fk: long (nullable = true)\n",
      " |-- c_custkey: long (nullable = true)\n",
      " |-- c_mktsegment: string (nullable = true)\n",
      " |-- c_name: string (nullable = true)\n",
      " |-- c_nation: string (nullable = true)\n",
      " |-- c_nation_fk: long (nullable = true)\n",
      " |-- c_phone: string (nullable = true)\n",
      " |-- c_region: string (nullable = true)\n",
      " |-- c_region_fk: long (nullable = true)\n",
      "\n"
     ]
    }
   ],
   "source": [
    "customer = getCollection(\"customer\")\n",
    "customer.printSchema()\n",
    "#customer = spark.read.format(\"com.mongodb.spark.sql.DefaultSource\").\n",
    "#           option(\"uri\",\"mongodb://127.0.0.1/m3bg1.customer\").load()"
   ]
  },
  {
   "cell_type": "code",
   "execution_count": 6,
   "metadata": {},
   "outputs": [],
   "source": [
    "## Utilizando sql\n",
    "city.createOrReplaceTempView(\"temp_city\")\n",
    "customer.createOrReplaceTempView(\"temp_customer\")"
   ]
  },
  {
   "cell_type": "code",
   "execution_count": 7,
   "metadata": {},
   "outputs": [
    {
     "name": "stdout",
     "output_type": "stream",
     "text": [
      "+----------+---------------+---------------+------------+\n",
      "|      CITY|          PHONE|         NATION|      REGION|\n",
      "+----------+---------------+---------------+------------+\n",
      "|MOROCCO  4|25-214-662-5265|MOROCCO        |AFRICA      |\n",
      "|MOROCCO  9|25-147-618-6671|MOROCCO        |AFRICA      |\n",
      "|MOROCCO  5|25-807-330-7311|MOROCCO        |AFRICA      |\n",
      "|MOROCCO  5|25-907-645-7902|MOROCCO        |AFRICA      |\n",
      "|MOROCCO  0|25-610-774-8986|MOROCCO        |AFRICA      |\n",
      "|MOROCCO  6|25-532-817-5775|MOROCCO        |AFRICA      |\n",
      "|MOROCCO  5|25-775-409-8894|MOROCCO        |AFRICA      |\n",
      "|MOROCCO  9|25-285-327-1393|MOROCCO        |AFRICA      |\n",
      "|MOROCCO  6|25-994-342-8080|MOROCCO        |AFRICA      |\n",
      "|MOROCCO  5|25-546-227-2477|MOROCCO        |AFRICA      |\n",
      "|MOROCCO  1|25-623-108-3568|MOROCCO        |AFRICA      |\n",
      "|MOROCCO  1|25-772-339-4630|MOROCCO        |AFRICA      |\n",
      "|MOROCCO  3|25-563-852-5555|MOROCCO        |AFRICA      |\n",
      "|MOROCCO  0|25-340-429-8617|MOROCCO        |AFRICA      |\n",
      "|MOROCCO  6|25-727-213-7772|MOROCCO        |AFRICA      |\n",
      "|MOROCCO  1|25-837-433-1935|MOROCCO        |AFRICA      |\n",
      "|MOROCCO  7|25-237-892-2754|MOROCCO        |AFRICA      |\n",
      "|MOROCCO  5|25-362-625-5071|MOROCCO        |AFRICA      |\n",
      "|MOROCCO  6|25-731-874-4632|MOROCCO        |AFRICA      |\n",
      "|MOROCCO  3|25-160-190-5726|MOROCCO        |AFRICA      |\n",
      "+----------+---------------+---------------+------------+\n",
      "only showing top 20 rows\n",
      "\n"
     ]
    }
   ],
   "source": [
    "sql_city = execSQL(\"SELECT c_city AS CITY, c_phone AS PHONE, c_nation AS NATION, c_region AS REGION FROM temp_customer WHERE c_nation like 'MOROCCO%'\")\n",
    "sql_city.show()"
   ]
  },
  {
   "cell_type": "code",
   "execution_count": 8,
   "metadata": {},
   "outputs": [
    {
     "name": "stdout",
     "output_type": "stream",
     "text": [
      "+------+----------+------------------+---------------+\n",
      "|cityPK|      city|             cName|        cNation|\n",
      "+------+----------+------------------+---------------+\n",
      "|    26|CANADA   5|Customer#000000343|CANADA         |\n",
      "|    26|CANADA   5|Customer#000000863|CANADA         |\n",
      "|    26|CANADA   5|Customer#000000988|CANADA         |\n",
      "|    26|CANADA   5|Customer#000001241|CANADA         |\n",
      "|    26|CANADA   5|Customer#000001258|CANADA         |\n",
      "|    26|CANADA   5|Customer#000001358|CANADA         |\n",
      "|    26|CANADA   5|Customer#000001450|CANADA         |\n",
      "|    26|CANADA   5|Customer#000001673|CANADA         |\n",
      "|    26|CANADA   5|Customer#000001701|CANADA         |\n",
      "|    26|CANADA   5|Customer#000001717|CANADA         |\n",
      "|    26|CANADA   5|Customer#000002648|CANADA         |\n",
      "|    26|CANADA   5|Customer#000003573|CANADA         |\n",
      "|    26|CANADA   5|Customer#000003589|CANADA         |\n",
      "|    26|CANADA   5|Customer#000003658|CANADA         |\n",
      "|    26|CANADA   5|Customer#000003917|CANADA         |\n",
      "|    26|CANADA   5|Customer#000004207|CANADA         |\n",
      "|    26|CANADA   5|Customer#000004263|CANADA         |\n",
      "|    26|CANADA   5|Customer#000004685|CANADA         |\n",
      "|    26|CANADA   5|Customer#000004785|CANADA         |\n",
      "|    26|CANADA   5|Customer#000005215|CANADA         |\n",
      "+------+----------+------------------+---------------+\n",
      "only showing top 20 rows\n",
      "\n"
     ]
    }
   ],
   "source": [
    "sql_join = execSQL(\"SELECT ct.city_pk as cityPK, c.c_city as city, c.c_name as cName, c.c_nation as cNation FROM temp_customer c JOIN temp_city ct ON (c.c_city_fk = ct.city_pk)\")\n",
    "sql_join.show()"
   ]
  },
  {
   "cell_type": "code",
   "execution_count": null,
   "metadata": {},
   "outputs": [],
   "source": []
  },
  {
   "cell_type": "code",
   "execution_count": null,
   "metadata": {},
   "outputs": [],
   "source": []
  }
 ],
 "metadata": {
  "kernelspec": {
   "display_name": "Python 3",
   "language": "python",
   "name": "python3"
  },
  "language_info": {
   "codemirror_mode": {
    "name": "ipython",
    "version": 3
   },
   "file_extension": ".py",
   "mimetype": "text/x-python",
   "name": "python",
   "nbconvert_exporter": "python",
   "pygments_lexer": "ipython3",
   "version": "3.7.3"
  }
 },
 "nbformat": 4,
 "nbformat_minor": 2
}
